{
  "cells": [
    {
      "cell_type": "code",
      "execution_count": null,
      "metadata": {
        "id": "5jZQgvBzGYRr"
      },
      "outputs": [],
      "source": []
    },
    {
      "cell_type": "markdown",
      "source": [
        "这个版本使用的unet是预测的还原的图像而不是噪声？会有什么很大的差距吗？"
      ],
      "metadata": {
        "id": "s9VCwXw6xUgF"
      }
    },
    {
      "cell_type": "code",
      "execution_count": null,
      "metadata": {
        "id": "Q2rTnS90DBvP"
      },
      "outputs": [],
      "source": [
        "import numpy as np\n",
        "\n",
        "from tqdm.auto import trange, tqdm\n",
        "import matplotlib.pyplot as plt\n",
        "\n",
        "import tensorflow as tf\n",
        "import torch\n",
        "import torchvision\n",
        "import torchvision.transforms as transforms\n",
        "import torch.nn as nn"
      ]
    },
    {
      "cell_type": "markdown",
      "metadata": {
        "id": "0loNLOvxER9X"
      },
      "source": [
        "x_train是50000条32，32，3的图，test是10000条，y就是lable"
      ]
    },
    {
      "cell_type": "code",
      "execution_count": null,
      "metadata": {
        "colab": {
          "base_uri": "https://localhost:8080/"
        },
        "id": "YUi9p9JHDPsM",
        "outputId": "17bfc654-162d-407f-b994-ac92f5caab38"
      },
      "outputs": [
        {
          "output_type": "stream",
          "name": "stdout",
          "text": [
            "Downloading https://www.cs.toronto.edu/~kriz/cifar-10-python.tar.gz to cifar10/cifar-10-python.tar.gz\n"
          ]
        },
        {
          "output_type": "stream",
          "name": "stderr",
          "text": [
            "100%|██████████| 170M/170M [00:18<00:00, 9.00MB/s]\n"
          ]
        },
        {
          "output_type": "stream",
          "name": "stdout",
          "text": [
            "Extracting cifar10/cifar-10-python.tar.gz to cifar10/\n",
            "Files already downloaded and verified\n"
          ]
        }
      ],
      "source": [
        "\n",
        "\n",
        "#######\n",
        "train_dataset = torchvision.datasets.CIFAR10(\n",
        "    root=\"cifar10/\",\n",
        "    train=True,\n",
        "    download=True,\n",
        "    transform=transforms.ToTensor()\n",
        ")\n",
        "\n",
        "test_dataset = torchvision.datasets.CIFAR10(\n",
        "    root=\"cifar10/\",\n",
        "    train=False,\n",
        "    download=True,\n",
        "    transform=transforms.ToTensor()\n",
        ")"
      ]
    },
    {
      "cell_type": "code",
      "source": [
        "#generate training sample by adding noise in steps, randomly pick a noise degree for an image\n",
        "timesteps = 16\n",
        "noise_degree = torch.tensor(1 - np.linspace(0, 1.0, timesteps + 1)).to(device)  # linspace for timesteps, inverse to timestep,step 1 pure noise\n",
        "\n",
        "def add_noise(x, t):\n",
        "    # x: [batch_size, channels, height, width]\n",
        "    # t: [batch_size] tensor of timesteps\n",
        "\n",
        "    # Convert t to tensor if it's not already\n",
        "    t = torch.tensor(t).to(x.device)\n",
        "\n",
        "    # Get noise ratios for entire batch\n",
        "    noise_ratio_t = torch.tensor(noise_degree[t]).to(x.device)    # Convert to tensor\n",
        "    noise_ratio_t1 = torch.tensor(noise_degree[t + 1]).to(x.device)\n",
        "\n",
        "    # Generate noise for entire batch\n",
        "    noise = torch.randn_like(x).to(x.device)\n",
        "\n",
        "    # Reshape for broadcasting - using reshape or view with a tuple\n",
        "    noise_ratio_t = noise_ratio_t.reshape((-1, 1, 1, 1))    # [batch_size, 1, 1, 1]\n",
        "    noise_ratio_t1 = noise_ratio_t1.reshape((-1, 1, 1, 1))  # [batch_size, 1, 1, 1]\n",
        "\n",
        "    # Apply noise to entire batch at once\n",
        "    img_a = x * (1 - noise_ratio_t) + noise * noise_ratio_t\n",
        "    img_b = x * (1 - noise_ratio_t1) + noise * noise_ratio_t1\n",
        "\n",
        "    return img_a, img_b"
      ],
      "metadata": {
        "id": "uf5JiJnpBwJ9"
      },
      "execution_count": null,
      "outputs": []
    },
    {
      "cell_type": "code",
      "source": [
        "#cnn based autoencoder\n",
        "import torch.nn as nn\n",
        "class cnnmodel(nn.Module):\n",
        "    def __init__(self, in_channels):\n",
        "        super().__init__()\n",
        "        #step embedding\n",
        "\n",
        "        self.time_embed = nn.Sequential(\n",
        "            nn.Linear(1, 128),\n",
        "            nn.ReLU(),\n",
        "            nn.Linear(128, 128)\n",
        "        )\n",
        "\n",
        "\n",
        "        # Encoder\n",
        "        self.encoder = nn.Sequential(\n",
        "            nn.Conv2d(in_channels, 32, kernel_size=3, padding=1),\n",
        "            nn.ReLU(),\n",
        "            nn.MaxPool2d(2),  # 28 -> 14\n",
        "\n",
        "            nn.Conv2d(32, 64, kernel_size=3, padding=1),\n",
        "            nn.ReLU(),\n",
        "            nn.MaxPool2d(2),  # 14 -> 7\n",
        "\n",
        "            nn.Conv2d(64, 128, kernel_size=3, padding=1),\n",
        "            nn.ReLU(),\n",
        "            nn.MaxPool2d(2),  # 7 -> 4\n",
        "        )\n",
        "\n",
        "        # Decoder\n",
        "        self.decoder = nn.Sequential(\n",
        "            nn.ConvTranspose2d(128, 64, kernel_size=2, stride=2),  # 4 -> 8\n",
        "            nn.ReLU(),\n",
        "\n",
        "            nn.ConvTranspose2d(64, 32, kernel_size=2, stride=2),  # 8 -> 16\n",
        "            nn.ReLU(),\n",
        "\n",
        "            nn.ConvTranspose2d(32, in_channels, kernel_size=2, stride=2),  # 16 -> 32\n",
        "            nn.Sigmoid()  # Final activation for image pixels\n",
        "        )\n",
        "\n",
        "    def forward(self, x,t):\n",
        "        t = t.float().view(-1, 1)\n",
        "        t = self.time_embed(t)\n",
        "        x = self.encoder(x)\n",
        "        t = t.view(t.shape[0], -1, 1, 1).expand(-1, -1, x.shape[2], x.shape[3])\n",
        "        x = x + t\n",
        "        x = self.decoder(x)\n",
        "        return x\n"
      ],
      "metadata": {
        "id": "VeAWGSQUFj_q"
      },
      "execution_count": null,
      "outputs": []
    },
    {
      "cell_type": "code",
      "source": [
        "# build the trainner\n",
        "\n",
        "\n",
        "batch_size = 128\n",
        "epochs = 30\n",
        "\n",
        "train_dataloader = torch.utils.data.DataLoader(\n",
        "    train_dataset,\n",
        "    batch_size=batch_size,          # Process 64 images at once\n",
        "    shuffle=True,           # Randomize order each epoch\n",
        "    num_workers=2,          # Parallel data loading\n",
        "    pin_memory=True        # Faster data transfer to GPU\n",
        ")\n",
        "\n",
        "\n",
        "device = torch.device('cuda' if torch.cuda.is_available() else 'cpu')\n",
        "model = cnnmodel(3).to(device).float()\n",
        "loss_fn = nn.L1Loss().to(device)\n",
        "optimizer = torch.optim.Adam(model.parameters(), lr=1e-3)\n",
        "\n",
        "total_loss=[]\n",
        "for epoch in range(epochs):\n",
        "\n",
        "  batch_loss = 0\n",
        "  batch_count = 0\n",
        "  for step,(images, _) in enumerate(train_dataloader):\n",
        "    optimizer.zero_grad()\n",
        "    images = images.to(device).float()\n",
        "    rand_step = torch.randint(0, timesteps-1, (images.shape[0],)).to(device)  # Random timesteps for batch\n",
        "\n",
        "    img_a, img_b = add_noise(images, rand_step)\n",
        "    predict_image = model(img_a.float(),rand_step )\n",
        "    loss= loss_fn(predict_image,img_b)\n",
        "    loss.backward()\n",
        "    optimizer.step()\n",
        "    batch_loss=batch_loss+loss\n",
        "    if step % 50==0:\n",
        "          print(f'Epoch: {epoch}, Step: {step}, Loss: {loss.item():.4f} ')\n",
        "  total_loss.append(batch_loss/batch_size)\n",
        "\n",
        "\n",
        "    # optimizer.zero_grad()\n",
        "    # loss=0\n",
        "    # #update model until batchsize\n",
        "\n",
        "    # image=i[0][0]\n",
        "    # rand_step=np.random.randint(0, timesteps, size=1)\n",
        "    # img_a,img_b= add_noise(image,rand_step)\n",
        "    # predict_image = model(img_a)\n",
        "    # current_loss= loss_fn(predict_image,img_b)\n",
        "    # batch_loss += current_loss / batch_size\n",
        "    # batch_count=batch_count+1\n",
        "\n",
        "    # if batch_count==batch_size:\n",
        "\n",
        "    #   batch_loss.backward()\n",
        "    #   optimizer.step()\n",
        "    #   optimizer.zero_grad()\n",
        "    #   total_loss= total_loss+ batch_loss.item()\n",
        "    #   batch_count=0\n",
        "    #   batch_loss=0\n",
        "\n",
        "\n",
        "\n",
        "\n"
      ],
      "metadata": {
        "colab": {
          "base_uri": "https://localhost:8080/"
        },
        "id": "eZgyD-lQMd97",
        "outputId": "6bab5073-5b6c-4ef9-ec9e-4b11dcaf65d8"
      },
      "execution_count": null,
      "outputs": [
        {
          "output_type": "stream",
          "name": "stderr",
          "text": [
            "<ipython-input-19-74160358c198>:10: UserWarning: To copy construct from a tensor, it is recommended to use sourceTensor.clone().detach() or sourceTensor.clone().detach().requires_grad_(True), rather than torch.tensor(sourceTensor).\n",
            "  t = torch.tensor(t).to(x.device)\n",
            "<ipython-input-19-74160358c198>:13: UserWarning: To copy construct from a tensor, it is recommended to use sourceTensor.clone().detach() or sourceTensor.clone().detach().requires_grad_(True), rather than torch.tensor(sourceTensor).\n",
            "  noise_ratio_t = torch.tensor(noise_degree[t]).to(x.device)    # Convert to tensor\n",
            "<ipython-input-19-74160358c198>:14: UserWarning: To copy construct from a tensor, it is recommended to use sourceTensor.clone().detach() or sourceTensor.clone().detach().requires_grad_(True), rather than torch.tensor(sourceTensor).\n",
            "  noise_ratio_t1 = torch.tensor(noise_degree[t + 1]).to(x.device)\n"
          ]
        },
        {
          "output_type": "stream",
          "name": "stdout",
          "text": [
            "Epoch: 0, Step: 0, Loss: 0.4866 \n",
            "Epoch: 0, Step: 50, Loss: 0.4017 \n",
            "Epoch: 0, Step: 100, Loss: 0.4217 \n",
            "Epoch: 0, Step: 150, Loss: 0.4291 \n",
            "Epoch: 0, Step: 200, Loss: 0.3922 \n",
            "Epoch: 0, Step: 250, Loss: 0.4029 \n",
            "Epoch: 0, Step: 300, Loss: 0.4006 \n",
            "Epoch: 0, Step: 350, Loss: 0.4244 \n",
            "Epoch: 1, Step: 0, Loss: 0.3873 \n",
            "Epoch: 1, Step: 50, Loss: 0.4126 \n",
            "Epoch: 1, Step: 100, Loss: 0.4194 \n",
            "Epoch: 1, Step: 150, Loss: 0.3998 \n",
            "Epoch: 1, Step: 200, Loss: 0.3790 \n",
            "Epoch: 1, Step: 250, Loss: 0.3922 \n",
            "Epoch: 1, Step: 300, Loss: 0.3907 \n",
            "Epoch: 1, Step: 350, Loss: 0.4065 \n",
            "Epoch: 2, Step: 0, Loss: 0.3995 \n",
            "Epoch: 2, Step: 50, Loss: 0.3836 \n",
            "Epoch: 2, Step: 100, Loss: 0.4025 \n",
            "Epoch: 2, Step: 150, Loss: 0.4101 \n",
            "Epoch: 2, Step: 200, Loss: 0.4260 \n",
            "Epoch: 2, Step: 250, Loss: 0.4140 \n",
            "Epoch: 2, Step: 300, Loss: 0.4306 \n",
            "Epoch: 2, Step: 350, Loss: 0.4067 \n",
            "Epoch: 3, Step: 0, Loss: 0.3983 \n",
            "Epoch: 3, Step: 50, Loss: 0.4041 \n",
            "Epoch: 3, Step: 100, Loss: 0.3939 \n",
            "Epoch: 3, Step: 150, Loss: 0.4247 \n",
            "Epoch: 3, Step: 200, Loss: 0.4090 \n",
            "Epoch: 3, Step: 250, Loss: 0.3682 \n",
            "Epoch: 3, Step: 300, Loss: 0.3951 \n",
            "Epoch: 3, Step: 350, Loss: 0.4124 \n",
            "Epoch: 4, Step: 0, Loss: 0.4016 \n",
            "Epoch: 4, Step: 50, Loss: 0.3950 \n",
            "Epoch: 4, Step: 100, Loss: 0.4075 \n",
            "Epoch: 4, Step: 150, Loss: 0.4019 \n",
            "Epoch: 4, Step: 200, Loss: 0.3971 \n",
            "Epoch: 4, Step: 250, Loss: 0.3879 \n",
            "Epoch: 4, Step: 300, Loss: 0.3817 \n",
            "Epoch: 4, Step: 350, Loss: 0.4146 \n",
            "Epoch: 5, Step: 0, Loss: 0.4058 \n",
            "Epoch: 5, Step: 50, Loss: 0.3694 \n",
            "Epoch: 5, Step: 100, Loss: 0.3968 \n",
            "Epoch: 5, Step: 150, Loss: 0.4151 \n",
            "Epoch: 5, Step: 200, Loss: 0.4037 \n",
            "Epoch: 5, Step: 250, Loss: 0.4028 \n",
            "Epoch: 5, Step: 300, Loss: 0.3954 \n",
            "Epoch: 5, Step: 350, Loss: 0.3958 \n",
            "Epoch: 6, Step: 0, Loss: 0.3687 \n",
            "Epoch: 6, Step: 50, Loss: 0.3918 \n",
            "Epoch: 6, Step: 100, Loss: 0.4075 \n",
            "Epoch: 6, Step: 150, Loss: 0.3891 \n",
            "Epoch: 6, Step: 200, Loss: 0.4125 \n",
            "Epoch: 6, Step: 250, Loss: 0.4009 \n",
            "Epoch: 6, Step: 300, Loss: 0.4054 \n",
            "Epoch: 6, Step: 350, Loss: 0.3956 \n",
            "Epoch: 7, Step: 0, Loss: 0.3845 \n",
            "Epoch: 7, Step: 50, Loss: 0.3587 \n",
            "Epoch: 7, Step: 100, Loss: 0.3809 \n",
            "Epoch: 7, Step: 150, Loss: 0.3830 \n",
            "Epoch: 7, Step: 200, Loss: 0.3717 \n",
            "Epoch: 7, Step: 250, Loss: 0.4296 \n",
            "Epoch: 7, Step: 300, Loss: 0.4357 \n",
            "Epoch: 7, Step: 350, Loss: 0.3666 \n",
            "Epoch: 8, Step: 0, Loss: 0.3902 \n",
            "Epoch: 8, Step: 50, Loss: 0.4110 \n",
            "Epoch: 8, Step: 100, Loss: 0.3755 \n",
            "Epoch: 8, Step: 150, Loss: 0.3651 \n",
            "Epoch: 8, Step: 200, Loss: 0.3987 \n",
            "Epoch: 8, Step: 250, Loss: 0.3697 \n",
            "Epoch: 8, Step: 300, Loss: 0.3802 \n",
            "Epoch: 8, Step: 350, Loss: 0.3889 \n",
            "Epoch: 9, Step: 0, Loss: 0.4072 \n",
            "Epoch: 9, Step: 50, Loss: 0.3561 \n",
            "Epoch: 9, Step: 100, Loss: 0.4044 \n",
            "Epoch: 9, Step: 150, Loss: 0.3666 \n",
            "Epoch: 9, Step: 200, Loss: 0.3919 \n",
            "Epoch: 9, Step: 250, Loss: 0.4039 \n",
            "Epoch: 9, Step: 300, Loss: 0.4027 \n",
            "Epoch: 9, Step: 350, Loss: 0.3844 \n",
            "Epoch: 10, Step: 0, Loss: 0.3961 \n",
            "Epoch: 10, Step: 50, Loss: 0.3662 \n",
            "Epoch: 10, Step: 100, Loss: 0.4034 \n",
            "Epoch: 10, Step: 150, Loss: 0.3848 \n",
            "Epoch: 10, Step: 200, Loss: 0.3863 \n",
            "Epoch: 10, Step: 250, Loss: 0.3908 \n",
            "Epoch: 10, Step: 300, Loss: 0.4002 \n",
            "Epoch: 10, Step: 350, Loss: 0.4124 \n",
            "Epoch: 11, Step: 0, Loss: 0.4103 \n",
            "Epoch: 11, Step: 50, Loss: 0.3876 \n",
            "Epoch: 11, Step: 100, Loss: 0.3784 \n",
            "Epoch: 11, Step: 150, Loss: 0.3815 \n",
            "Epoch: 11, Step: 200, Loss: 0.4046 \n",
            "Epoch: 11, Step: 250, Loss: 0.3708 \n",
            "Epoch: 11, Step: 300, Loss: 0.4043 \n",
            "Epoch: 11, Step: 350, Loss: 0.4183 \n",
            "Epoch: 12, Step: 0, Loss: 0.3824 \n",
            "Epoch: 12, Step: 50, Loss: 0.3893 \n",
            "Epoch: 12, Step: 100, Loss: 0.4000 \n",
            "Epoch: 12, Step: 150, Loss: 0.3911 \n",
            "Epoch: 12, Step: 200, Loss: 0.4220 \n",
            "Epoch: 12, Step: 250, Loss: 0.3625 \n",
            "Epoch: 12, Step: 300, Loss: 0.4062 \n",
            "Epoch: 12, Step: 350, Loss: 0.3736 \n",
            "Epoch: 13, Step: 0, Loss: 0.3705 \n",
            "Epoch: 13, Step: 50, Loss: 0.3884 \n",
            "Epoch: 13, Step: 100, Loss: 0.3751 \n",
            "Epoch: 13, Step: 150, Loss: 0.3937 \n",
            "Epoch: 13, Step: 200, Loss: 0.3837 \n",
            "Epoch: 13, Step: 250, Loss: 0.4275 \n",
            "Epoch: 13, Step: 300, Loss: 0.3698 \n",
            "Epoch: 13, Step: 350, Loss: 0.3694 \n",
            "Epoch: 14, Step: 0, Loss: 0.3785 \n",
            "Epoch: 14, Step: 50, Loss: 0.4084 \n",
            "Epoch: 14, Step: 100, Loss: 0.4204 \n",
            "Epoch: 14, Step: 150, Loss: 0.3806 \n",
            "Epoch: 14, Step: 200, Loss: 0.3912 \n",
            "Epoch: 14, Step: 250, Loss: 0.3930 \n",
            "Epoch: 14, Step: 300, Loss: 0.3988 \n",
            "Epoch: 14, Step: 350, Loss: 0.4301 \n",
            "Epoch: 15, Step: 0, Loss: 0.3617 \n",
            "Epoch: 15, Step: 50, Loss: 0.3924 \n",
            "Epoch: 15, Step: 100, Loss: 0.3687 \n",
            "Epoch: 15, Step: 150, Loss: 0.3930 \n",
            "Epoch: 15, Step: 200, Loss: 0.4191 \n",
            "Epoch: 15, Step: 250, Loss: 0.4158 \n",
            "Epoch: 15, Step: 300, Loss: 0.4043 \n",
            "Epoch: 15, Step: 350, Loss: 0.3994 \n",
            "Epoch: 16, Step: 0, Loss: 0.4140 \n",
            "Epoch: 16, Step: 50, Loss: 0.3859 \n",
            "Epoch: 16, Step: 100, Loss: 0.3836 \n",
            "Epoch: 16, Step: 150, Loss: 0.3936 \n",
            "Epoch: 16, Step: 200, Loss: 0.3810 \n",
            "Epoch: 16, Step: 250, Loss: 0.3984 \n",
            "Epoch: 16, Step: 300, Loss: 0.4070 \n",
            "Epoch: 16, Step: 350, Loss: 0.3834 \n",
            "Epoch: 17, Step: 0, Loss: 0.3617 \n",
            "Epoch: 17, Step: 50, Loss: 0.3994 \n",
            "Epoch: 17, Step: 100, Loss: 0.3809 \n",
            "Epoch: 17, Step: 150, Loss: 0.4097 \n",
            "Epoch: 17, Step: 200, Loss: 0.3963 \n",
            "Epoch: 17, Step: 250, Loss: 0.3915 \n",
            "Epoch: 17, Step: 300, Loss: 0.3550 \n",
            "Epoch: 17, Step: 350, Loss: 0.3872 \n",
            "Epoch: 18, Step: 0, Loss: 0.4010 \n",
            "Epoch: 18, Step: 50, Loss: 0.4185 \n",
            "Epoch: 18, Step: 100, Loss: 0.4009 \n",
            "Epoch: 18, Step: 150, Loss: 0.3903 \n",
            "Epoch: 18, Step: 200, Loss: 0.3866 \n",
            "Epoch: 18, Step: 250, Loss: 0.3574 \n",
            "Epoch: 18, Step: 300, Loss: 0.3754 \n",
            "Epoch: 18, Step: 350, Loss: 0.3813 \n",
            "Epoch: 19, Step: 0, Loss: 0.4036 \n",
            "Epoch: 19, Step: 50, Loss: 0.3885 \n",
            "Epoch: 19, Step: 100, Loss: 0.4073 \n",
            "Epoch: 19, Step: 150, Loss: 0.4085 \n",
            "Epoch: 19, Step: 200, Loss: 0.3843 \n",
            "Epoch: 19, Step: 250, Loss: 0.3661 \n",
            "Epoch: 19, Step: 300, Loss: 0.3682 \n",
            "Epoch: 19, Step: 350, Loss: 0.3911 \n",
            "Epoch: 20, Step: 0, Loss: 0.3760 \n",
            "Epoch: 20, Step: 50, Loss: 0.4052 \n",
            "Epoch: 20, Step: 100, Loss: 0.3959 \n",
            "Epoch: 20, Step: 150, Loss: 0.3742 \n",
            "Epoch: 20, Step: 200, Loss: 0.4036 \n",
            "Epoch: 20, Step: 250, Loss: 0.4262 \n",
            "Epoch: 20, Step: 300, Loss: 0.3939 \n",
            "Epoch: 20, Step: 350, Loss: 0.3782 \n",
            "Epoch: 21, Step: 0, Loss: 0.3962 \n",
            "Epoch: 21, Step: 50, Loss: 0.4133 \n",
            "Epoch: 21, Step: 100, Loss: 0.3849 \n",
            "Epoch: 21, Step: 150, Loss: 0.4359 \n",
            "Epoch: 21, Step: 200, Loss: 0.3964 \n",
            "Epoch: 21, Step: 250, Loss: 0.3986 \n",
            "Epoch: 21, Step: 300, Loss: 0.3896 \n",
            "Epoch: 21, Step: 350, Loss: 0.3983 \n",
            "Epoch: 22, Step: 0, Loss: 0.4030 \n",
            "Epoch: 22, Step: 50, Loss: 0.4132 \n",
            "Epoch: 22, Step: 100, Loss: 0.3776 \n",
            "Epoch: 22, Step: 150, Loss: 0.3753 \n",
            "Epoch: 22, Step: 200, Loss: 0.3788 \n",
            "Epoch: 22, Step: 250, Loss: 0.3768 \n",
            "Epoch: 22, Step: 300, Loss: 0.4281 \n",
            "Epoch: 22, Step: 350, Loss: 0.3687 \n",
            "Epoch: 23, Step: 0, Loss: 0.3654 \n",
            "Epoch: 23, Step: 50, Loss: 0.3680 \n",
            "Epoch: 23, Step: 100, Loss: 0.3490 \n",
            "Epoch: 23, Step: 150, Loss: 0.3973 \n",
            "Epoch: 23, Step: 200, Loss: 0.3863 \n",
            "Epoch: 23, Step: 250, Loss: 0.3589 \n",
            "Epoch: 23, Step: 300, Loss: 0.3888 \n",
            "Epoch: 23, Step: 350, Loss: 0.3918 \n",
            "Epoch: 24, Step: 0, Loss: 0.3963 \n",
            "Epoch: 24, Step: 50, Loss: 0.3790 \n",
            "Epoch: 24, Step: 100, Loss: 0.3598 \n",
            "Epoch: 24, Step: 150, Loss: 0.4061 \n",
            "Epoch: 24, Step: 200, Loss: 0.4222 \n",
            "Epoch: 24, Step: 250, Loss: 0.3967 \n",
            "Epoch: 24, Step: 300, Loss: 0.4093 \n",
            "Epoch: 24, Step: 350, Loss: 0.3919 \n",
            "Epoch: 25, Step: 0, Loss: 0.4114 \n",
            "Epoch: 25, Step: 50, Loss: 0.3750 \n",
            "Epoch: 25, Step: 100, Loss: 0.3691 \n",
            "Epoch: 25, Step: 150, Loss: 0.3582 \n",
            "Epoch: 25, Step: 200, Loss: 0.3753 \n",
            "Epoch: 25, Step: 250, Loss: 0.4020 \n",
            "Epoch: 25, Step: 300, Loss: 0.3641 \n",
            "Epoch: 25, Step: 350, Loss: 0.3795 \n",
            "Epoch: 26, Step: 0, Loss: 0.3746 \n",
            "Epoch: 26, Step: 50, Loss: 0.4069 \n",
            "Epoch: 26, Step: 100, Loss: 0.3750 \n",
            "Epoch: 26, Step: 150, Loss: 0.4015 \n",
            "Epoch: 26, Step: 200, Loss: 0.4175 \n",
            "Epoch: 26, Step: 250, Loss: 0.3830 \n",
            "Epoch: 26, Step: 300, Loss: 0.4197 \n",
            "Epoch: 26, Step: 350, Loss: 0.3950 \n",
            "Epoch: 27, Step: 0, Loss: 0.3901 \n",
            "Epoch: 27, Step: 50, Loss: 0.3818 \n",
            "Epoch: 27, Step: 100, Loss: 0.3796 \n",
            "Epoch: 27, Step: 150, Loss: 0.4047 \n",
            "Epoch: 27, Step: 200, Loss: 0.3761 \n",
            "Epoch: 27, Step: 250, Loss: 0.3598 \n",
            "Epoch: 27, Step: 300, Loss: 0.3741 \n",
            "Epoch: 27, Step: 350, Loss: 0.3797 \n",
            "Epoch: 28, Step: 0, Loss: 0.4085 \n",
            "Epoch: 28, Step: 50, Loss: 0.3843 \n",
            "Epoch: 28, Step: 100, Loss: 0.3812 \n",
            "Epoch: 28, Step: 150, Loss: 0.3750 \n",
            "Epoch: 28, Step: 200, Loss: 0.3741 \n",
            "Epoch: 28, Step: 250, Loss: 0.3688 \n",
            "Epoch: 28, Step: 300, Loss: 0.4030 \n",
            "Epoch: 28, Step: 350, Loss: 0.4071 \n",
            "Epoch: 29, Step: 0, Loss: 0.3799 \n",
            "Epoch: 29, Step: 50, Loss: 0.3636 \n",
            "Epoch: 29, Step: 100, Loss: 0.3754 \n",
            "Epoch: 29, Step: 150, Loss: 0.4062 \n",
            "Epoch: 29, Step: 200, Loss: 0.3607 \n",
            "Epoch: 29, Step: 250, Loss: 0.4185 \n",
            "Epoch: 29, Step: 300, Loss: 0.4096 \n",
            "Epoch: 29, Step: 350, Loss: 0.3891 \n"
          ]
        }
      ]
    },
    {
      "cell_type": "code",
      "source": [
        "\n",
        "image_size=(3, 32, 32)\n",
        "num_samples=10\n",
        "with torch.no_grad():\n",
        "    # Start with pure noise\n",
        "    x = torch.randn(num_samples, *image_size).to(device)\n",
        "\n",
        "    # Gradually denoise for each timestep in 10 steps\n",
        "    for t in range(timesteps):\n",
        "        t_batch = torch.full((num_samples,), t, device=device)\n",
        "        x = model(x, t_batch)\n",
        "\n",
        "    x = torch.clamp(x, 0, 1)\n",
        "\n",
        "    # Visualize results\n",
        "    fig, pos = plt.subplots(1, num_samples, figsize=(20, 2))\n",
        "    for i in range(num_samples):\n",
        "        pos[i].imshow(x[i, 0].cpu(), cmap='gray')\n",
        "        pos[i].axis('off')\n",
        "        pos[i].set_title(f'Sample {i+1}')\n",
        "\n",
        "    plt.tight_layout()\n",
        "    plt.show()\n",
        "\n",
        "\n"
      ],
      "metadata": {
        "colab": {
          "base_uri": "https://localhost:8080/",
          "height": 163
        },
        "id": "dlqgOWAbhthR",
        "outputId": "d344c6e8-0f10-459e-ccd7-b717af9a4eab"
      },
      "execution_count": null,
      "outputs": [
        {
          "output_type": "display_data",
          "data": {
            "text/plain": [
              "<Figure size 2000x200 with 10 Axes>"
            ],
            "image/png": "[encoded data removed]"
          },
          "metadata": {}
        }
      ]
    },
    {
      "cell_type": "code",
      "source": [],
      "metadata": {
        "colab": {
          "base_uri": "https://localhost:8080/"
        },
        "id": "fwYuyzYXhEfC",
        "outputId": "6b4cd0b4-b582-4f87-d4cc-825afdf7c8f8"
      },
      "execution_count": null,
      "outputs": [
        {
          "output_type": "stream",
          "name": "stdout",
          "text": [
            "15\n",
            "14\n",
            "13\n",
            "12\n",
            "11\n",
            "10\n",
            "9\n",
            "8\n",
            "7\n",
            "6\n",
            "5\n",
            "4\n",
            "3\n",
            "2\n",
            "1\n",
            "0\n"
          ]
        }
      ]
    },
    {
      "cell_type": "code",
      "execution_count": null,
      "metadata": {
        "id": "2yvkcFO3D-mG"
      },
      "outputs": [],
      "source": [
        "IMG_SIZE = 32     # input image size, CIFAR-10 is 32x32\n",
        "BATCH_SIZE = 128  # for training batch size\n",
        "timesteps = 16    # how many steps for a noisy image into clear\n",
        "time_bar = 1 - np.linspace(0, 1.0, timesteps + 1) # linspace for timesteps"
      ]
    },
    {
      "cell_type": "code",
      "execution_count": null,
      "metadata": {
        "colab": {
          "base_uri": "https://localhost:8080/",
          "height": 501
        },
        "id": "qQJWg5jPD_2D",
        "outputId": "77f00646-f1fc-486a-a5c7-236b0f75a90e"
      },
      "outputs": [
        {
          "output_type": "stream",
          "name": "stderr",
          "text": [
            "<ipython-input-32-07e6d9795f71>:7: UserWarning: No artists with labels found to put in legend.  Note that artists whose label start with an underscore are ignored when legend() is called with no argument.\n",
            "  plt.legend()\n"
          ]
        },
        {
          "output_type": "display_data",
          "data": {
            "text/plain": [
              "<Figure size 1000x500 with 1 Axes>"
            ],
            "image/png": "[encoded data removed]"
          },
          "metadata": {}
        }
      ],
      "source": [
        "total_loss_cpu = [loss.cpu().item() for loss in total_loss]\n",
        "\n",
        "plt.figure(figsize=(10, 5))\n",
        "plt.plot(range(len(total_loss_cpu)), total_loss_cpu, 'b-')\n",
        "plt.xlabel('Epoch')\n",
        "plt.ylabel('Loss')\n",
        "plt.legend()\n",
        "plt.grid(True)\n",
        "plt.show()"
      ]
    },
    {
      "cell_type": "code",
      "execution_count": null,
      "metadata": {
        "colab": {
          "base_uri": "https://localhost:8080/",
          "height": 169
        },
        "id": "6SvyFV3pEJS5",
        "outputId": "4d8084e9-0157-4daa-82c0-f3c5b54d2741"
      },
      "outputs": [
        {
          "data": {
            "image/png": "[encoded data removed]",
            "text/plain": [
              "<Figure size 1000x1000 with 5 Axes>"
            ]
          },
          "metadata": {},
          "output_type": "display_data"
        }
      ],
      "source": [
        "def cvtImg(img):\n",
        "    img = img - img.min()\n",
        "    img = (img / img.max())\n",
        "    return img.astype(np.float32)\n",
        "\n",
        "def show_examples(x):\n",
        "    plt.figure(figsize=(10, 10))\n",
        "    for i in range(5):\n",
        "        plt.subplot(5, 5, i+1)\n",
        "        img = cvtImg(x[i])\n",
        "        plt.imshow(img)\n",
        "        plt.axis('off')\n",
        "\n",
        "show_examples(X_train)"
      ]
    },
    {
      "cell_type": "code",
      "execution_count": null,
      "metadata": {
        "colab": {
          "base_uri": "https://localhost:8080/",
          "height": 448
        },
        "id": "L9TInvAsLcPC",
        "outputId": "099f0a6c-1658-4b28-f333-5f86370dea5a"
      },
      "outputs": [
        {
          "data": {
            "text/plain": [
              "<matplotlib.image.AxesImage at 0x7b0910d44dc0>"
            ]
          },
          "execution_count": 28,
          "metadata": {},
          "output_type": "execute_result"
        },
        {
          "data": {
            "image/png": "[encoded data removed]",
            "text/plain": [
              "<Figure size 640x480 with 1 Axes>"
            ]
          },
          "metadata": {},
          "output_type": "display_data"
        }
      ],
      "source": [
        "plt.imshow(cvtImg(X_train[0]) )\n"
      ]
    },
    {
      "cell_type": "code",
      "execution_count": null,
      "metadata": {
        "colab": {
          "base_uri": "https://localhost:8080/",
          "height": 169
        },
        "id": "t-qSKwguLnbN",
        "outputId": "7f36c682-bb7c-4c0e-a50f-135a52468117"
      },
      "outputs": [
        {
          "data": {
            "image/png": "[encoded data removed]",
            "text/plain": [
              "<Figure size 1000x1000 with 5 Axes>"
            ]
          },
          "metadata": {},
          "output_type": "display_data"
        }
      ],
      "source": [
        "def forward_noise(x, t):\n",
        "    a = time_bar[t]      # base on t\n",
        "    b = time_bar[t+1]  # image for t + 1\n",
        "\n",
        "    noise = np.random.normal(size=x.shape)  # noise mask\n",
        "    a = a.reshape((-1, 1, 1, 1))\n",
        "    b = b.reshape((-1, 1, 1, 1))\n",
        "    img_a = x * (1 - a) + noise * a\n",
        "    img_b = x * (1 - b) + noise * b\n",
        "    return img_a, img_b\n",
        "\n",
        "def generate_ts(num):\n",
        "    return np.random.randint(0, timesteps, size=num)\n",
        "\n",
        "# t = np.full((25,), timesteps - 1) # if you want see clarity\n",
        "# t = np.full((25,), 0)             # if you want see noisy\n",
        "t = generate_ts(25)             # random for training data\n",
        "a, b = forward_noise(X_train[:25], t)  #一步就把noise全部加进去胃，不用分步？\n",
        "show_examples(a)"
      ]
    },
    {
      "cell_type": "markdown",
      "metadata": {
        "id": "_0DFn46Wvf_d"
      },
      "source": [
        "每个block提取当前层次图形卷积信息，然后加上图片和当前时间步的信息"
      ]
    },
    {
      "cell_type": "code",
      "execution_count": null,
      "metadata": {
        "id": "xw4F67MLMEp-"
      },
      "outputs": [],
      "source": [
        "def block(x_img, x_ts):\n",
        "    x_parameter = layers.Conv2D(128, kernel_size=3, padding='same')(x_img)  #用128个卷积核，3*3大小\n",
        "    x_parameter = layers.Activation('relu')(x_parameter)\n",
        "\n",
        "    time_parameter = layers.Dense(128)(x_ts) #表示全连接层，x的纬度会被映射成128\n",
        "    time_parameter = layers.Activation('relu')(time_parameter)\n",
        "    time_parameter = layers.Reshape((1, 1, 128))(time_parameter)\n",
        "    x_parameter = x_parameter * time_parameter\n",
        "\n",
        "    # -----\n",
        "    x_out = layers.Conv2D(128, kernel_size=3, padding='same')(x_img)\n",
        "    x_out = x_out + x_parameter\n",
        "    x_out = layers.LayerNormalization()(x_out)\n",
        "    x_out = layers.Activation('relu')(x_out)\n",
        "\n",
        "    return x_out"
      ]
    },
    {
      "cell_type": "code",
      "execution_count": null,
      "metadata": {
        "id": "KW-QH5ubqAl-"
      },
      "outputs": [],
      "source": []
    },
    {
      "cell_type": "code",
      "execution_count": null,
      "metadata": {
        "colab": {
          "base_uri": "https://localhost:8080/"
        },
        "collapsed": true,
        "id": "2EZH8ZYCOS7r",
        "outputId": "c55f42cd-7359-4d49-9dcf-067454cb681e"
      },
      "outputs": [
        {
          "name": "stdout",
          "output_type": "stream",
          "text": [
            "(None, 512)\n",
            "(None, 4, 4, 32)\n",
            "(None, 4, 4, 128)\n",
            "(None, 4, 4, 160)\n",
            "(None, 32, 32, 128)\n",
            "(None, 32, 32, 3)\n"
          ]
        }
      ],
      "source": [
        "def make_model():\n",
        "    x = x_input = layers.Input(shape=(IMG_SIZE, IMG_SIZE, 3), name='x_input') # x和x_input都创建一个tensor，只是符号，没有实际的值\n",
        "    x_ts = x_ts_input = layers.Input(shape=(1,), name='x_ts_input')\n",
        "    x_ts = layers.Dense(192)(x_ts) #为什么是192??\n",
        "    x_ts = layers.LayerNormalization()(x_ts)\n",
        "    x_ts = layers.Activation('relu')(x_ts)\n",
        "\n",
        "    # ----- left ( down ) -----\n",
        "    x = x32 = block(x, x_ts)\n",
        "    x = layers.MaxPool2D(2)(x)  # 2d就是2*2的pool，长和宽都会短一倍\n",
        "\n",
        "    x = x16 = block(x, x_ts)\n",
        "    x = layers.MaxPool2D(2)(x)\n",
        "\n",
        "    x = x8 = block(x, x_ts)\n",
        "    x = layers.MaxPool2D(2)(x)\n",
        "\n",
        "    x = x4 = block(x, x_ts)\n",
        "\n",
        "    # ----- MLP -----\n",
        "    x = layers.Flatten()(x)  #把tensor变成1纬，应该会保留batch的纬度\n",
        "    x = layers.Concatenate()([x, x_ts])\n",
        "    x = layers.Dense(128)(x)\n",
        "    x = layers.LayerNormalization()(x)\n",
        "    x = layers.Activation('relu')(x)\n",
        "\n",
        "\n",
        "    x = layers.Dense(4 * 4 * 32)(x)\n",
        "    x = layers.LayerNormalization()(x)\n",
        "    x = layers.Activation('relu')(x)\n",
        "    x = layers.Reshape((4, 4, 32))(x)\n",
        "\n",
        "    # ----- right ( up ) -----\n",
        "    x = layers.Concatenate()([x, x4])  #这是在最后一个纬度进行concat\n",
        "    x = block(x, x_ts)\n",
        "    x = layers.UpSampling2D(2)(x) #简单的把每个pixle变成2*2\n",
        "\n",
        "    x = layers.Concatenate()([x, x8])\n",
        "    x = block(x, x_ts)\n",
        "    x = layers.UpSampling2D(2)(x)\n",
        "\n",
        "    x = layers.Concatenate()([x, x16])\n",
        "    x = block(x, x_ts)\n",
        "    x = layers.UpSampling2D(2)(x)\n",
        "\n",
        "    x = layers.Concatenate()([x, x32])\n",
        "    x = block(x, x_ts)\n",
        "\n",
        "    # ----- output -----\n",
        "    x = layers.Conv2D(3, kernel_size=1, padding='same')(x) #用来合并channel的输出，conv会在每个channel计算后加总，然后就留kernel个数量的纬度\n",
        "    model = tf.keras.models.Model([x_input, x_ts_input], x) #声明这个model,只需要输入输出秋可以了？, x是输出\n",
        "    return model\n",
        "\n",
        "model = make_model()\n",
        "#model.summary()"
      ]
    },
    {
      "cell_type": "code",
      "execution_count": null,
      "metadata": {
        "id": "Zu1g3Vc2OlqU"
      },
      "outputs": [],
      "source": [
        "optimizer = tf.keras.optimizers.Adam(learning_rate=0.0008)\n",
        "loss_func = tf.keras.losses.MeanAbsoluteError()\n",
        "model.compile(loss=loss_func, optimizer=optimizer)"
      ]
    },
    {
      "cell_type": "code",
      "execution_count": null,
      "metadata": {
        "id": "ME36X5lg9nw6"
      },
      "outputs": [],
      "source": [
        "x = np.random.normal(size=(32, IMG_SIZE, IMG_SIZE, 3))"
      ]
    },
    {
      "cell_type": "code",
      "execution_count": null,
      "metadata": {
        "colab": {
          "base_uri": "https://localhost:8080/",
          "height": 67,
          "referenced_widgets": [
            "eebb27d9a3e543cc9a3ad199a65711dc",
            "5331b5ff6a3c477dbc3207fc371481da",
            "28ac2aaebdfb468fbe4308657e11f983",
            "070df514ab66443fbc66b4093e0192bb",
            "d5560e40326041eea65d380ad9dc4ebb",
            "a57c68433e5f45489513c55e94bdcb9f",
            "296f83fe20b246f181f598f5347f7d7e",
            "e0437426166248a48759d90d0fe202b0",
            "faeff706c9754121a0a1d112a79e7d16",
            "480437b5dc6748f4acbf8928648929f7",
            "c90e4c1f2853414b8beb449ab74e9644"
          ]
        },
        "id": "Y0XGZh1X-ABU",
        "outputId": "8161088f-b81b-4baa-9e73-5d8886214968"
      },
      "outputs": [
        {
          "data": {
            "application/vnd.jupyter.widget-view+json": {
              "model_id": "eebb27d9a3e543cc9a3ad199a65711dc",
              "version_major": 2,
              "version_minor": 0
            },
            "text/plain": [
              "  0%|          | 0/16 [00:00<?, ?it/s]"
            ]
          },
          "metadata": {},
          "output_type": "display_data"
        },
        {
          "data": {
            "text/plain": [
              "<tqdm.auto.tqdm at 0x7af09c0b1000>"
            ]
          },
          "execution_count": 18,
          "metadata": {},
          "output_type": "execute_result"
        }
      ],
      "source": [
        "trange(timesteps)"
      ]
    },
    {
      "cell_type": "code",
      "execution_count": null,
      "metadata": {
        "colab": {
          "base_uri": "https://localhost:8080/"
        },
        "collapsed": true,
        "id": "9YknNRoJ9pvh",
        "outputId": "017cccbe-efac-4c23-db8a-5a23c0129ab4"
      },
      "outputs": [
        {
          "data": {
            "text/plain": [
              "array([6, 6, 6, 6, 6, 6, 6, 6, 6, 6, 6, 6, 6, 6, 6, 6, 6, 6, 6, 6, 6, 6,\n",
              "       6, 6, 6, 6, 6, 6, 6, 6, 6, 6])"
            ]
          },
          "execution_count": 20,
          "metadata": {},
          "output_type": "execute_result"
        }
      ],
      "source": [
        "np.full((32), 6)"
      ]
    },
    {
      "cell_type": "code",
      "execution_count": null,
      "metadata": {
        "colab": {
          "base_uri": "https://localhost:8080/",
          "height": 201,
          "referenced_widgets": [
            "1c81a3006faf4dea8c883df4f1863c7a",
            "139d93227af74dde9c198afe7cabf235",
            "ff1a6599d9794a87841c36e434039aa6",
            "e57be117d77a4179863a04e7031f01db",
            "bb77a75bd23c4c35a96a148adeb8fd9e",
            "257a2c9ca82e48dc9534b0eb12065bc6",
            "0da327e4276e483ba51dd55427855932",
            "7f27ce7f32714641be8f6627a73f092d",
            "166379225765463582054713e2cd89e0",
            "7804577fcb34475e9a2c4cd175e4ea59",
            "4762884f1596441c9a5a71044d2f5772"
          ]
        },
        "id": "6uerX0x5595s",
        "outputId": "ecda23e1-d3c1-4d99-8109-64e4337bed1e"
      },
      "outputs": [
        {
          "data": {
            "application/vnd.jupyter.widget-view+json": {
              "model_id": "1c81a3006faf4dea8c883df4f1863c7a",
              "version_major": 2,
              "version_minor": 0
            },
            "text/plain": [
              "  0%|          | 0/16 [00:00<?, ?it/s]"
            ]
          },
          "metadata": {},
          "output_type": "display_data"
        },
        {
          "data": {
            "image/png": "[encoded data removed]",
            "text/plain": [
              "<Figure size 1000x1000 with 5 Axes>"
            ]
          },
          "metadata": {},
          "output_type": "display_data"
        }
      ],
      "source": [
        "def predict(x_idx=None):\n",
        "    x = np.random.normal(size=(32, IMG_SIZE, IMG_SIZE, 3)) # 初始化的随机噪声,每一次32张图\n",
        "    for i in trange(timesteps):\n",
        "        t = i\n",
        "        x = model.predict([x, np.full((32), t)], verbose=0) #预测的目标是下一张图\n",
        "    show_examples(x)\n",
        "\n",
        "predict()"
      ]
    },
    {
      "cell_type": "code",
      "execution_count": null,
      "metadata": {
        "id": "89b3gohw-1nX"
      },
      "outputs": [],
      "source": [
        "def train_one(x_img):\n",
        "    x_ts = generate_ts(len(x_img))\n",
        "    x_a, x_b = forward_noise(x_img, x_ts) #现在这个例子，xb是比xa要噪声少一点的图\n",
        "    loss = model.train_on_batch([x_a, x_ts], x_b)\n",
        "    return loss"
      ]
    },
    {
      "cell_type": "code",
      "execution_count": null,
      "metadata": {
        "id": "tvxD-ImCApiS"
      },
      "outputs": [],
      "source": [
        "def train(R=10):\n",
        "    bar = trange(R)\n",
        "    total = 100\n",
        "    for i in bar:\n",
        "        for j in range(total):\n",
        "            x_img = X_train[np.random.randint(len(X_train), size=BATCH_SIZE)]\n",
        "            loss = train_one(x_img)\n",
        "            pg = (j / total) * 100\n",
        "            if j % 5 == 0:\n",
        "                bar.set_description(f'loss: {loss:.5f}, p: {pg:.2f}%')"
      ]
    },
    {
      "cell_type": "code",
      "execution_count": null,
      "metadata": {
        "colab": {
          "background_save": true,
          "base_uri": "https://localhost:8080/",
          "height": 105,
          "referenced_widgets": [
            "c74564b6b9b044b09724c02fd774ab17",
            "ff401b007c2e47b283688e60f4ec240f",
            "5edcbe13692e4c2ca73808619370033e",
            "ba8baf251ce243778466c8ed107b07b3",
            "3b9e2be7b2264e6692c7fd07f2eda3c7",
            "6ee39b04e5734b9caf7bb895fc2d1e4b",
            "08ac428b79f74e76bed08d1b96fb9119",
            "3cabf074c9644d078d781f7ea7f4a18e",
            "2e51b436197642289d9cf8ed26dddb15",
            "a106d1c489114673bc928ce1d089b45e",
            "d22db7582e754f37be2b71bab2169121"
          ]
        },
        "id": "MS0f-G0EBYSc",
        "outputId": "9da76aca-32d7-4d13-c88a-94fdefc472e6"
      },
      "outputs": [
        {
          "data": {
            "application/vnd.jupyter.widget-view+json": {
              "model_id": "c74564b6b9b044b09724c02fd774ab17",
              "version_major": 2,
              "version_minor": 0
            },
            "text/plain": [
              "  0%|          | 0/50 [00:00<?, ?it/s]"
            ]
          },
          "metadata": {},
          "output_type": "display_data"
        },
        {
          "name": "stderr",
          "output_type": "stream",
          "text": [
            "WARNING:tensorflow:5 out of the last 5 calls to <function TensorFlowTrainer.make_train_function.<locals>.one_step_on_iterator at 0x7af09cbe8790> triggered tf.function retracing. Tracing is expensive and the excessive number of tracings could be due to (1) creating @tf.function repeatedly in a loop, (2) passing tensors with different shapes, (3) passing Python objects instead of tensors. For (1), please define your @tf.function outside of the loop. For (2), @tf.function has reduce_retracing=True option that can avoid unnecessary retracing. For (3), please refer to https://www.tensorflow.org/guide/function#controlling_retracing and https://www.tensorflow.org/api_docs/python/tf/function for  more details.\n",
            "WARNING:tensorflow:6 out of the last 6 calls to <function TensorFlowTrainer.make_train_function.<locals>.one_step_on_iterator at 0x7af09cbe8790> triggered tf.function retracing. Tracing is expensive and the excessive number of tracings could be due to (1) creating @tf.function repeatedly in a loop, (2) passing tensors with different shapes, (3) passing Python objects instead of tensors. For (1), please define your @tf.function outside of the loop. For (2), @tf.function has reduce_retracing=True option that can avoid unnecessary retracing. For (3), please refer to https://www.tensorflow.org/guide/function#controlling_retracing and https://www.tensorflow.org/api_docs/python/tf/function for  more details.\n"
          ]
        }
      ],
      "source": [
        "for _ in range(1):\n",
        "    train()\n",
        "    # reduce learning rate for next training\n",
        "    model.optimizer.learning_rate = max(0.000001, model.optimizer.learning_rate * 0.9)\n",
        "\n",
        "    # show result\n",
        "    predict()\n",
        "    predict_step()\n",
        "    plt.show()"
      ]
    },
    {
      "cell_type": "code",
      "execution_count": null,
      "metadata": {
        "id": "FenyMW5eDIX4"
      },
      "outputs": [],
      "source": []
    }
  ],
  "metadata": {
    "colab": {
      "provenance": [],
      "gpuType": "T4"
    },
    "kernelspec": {
      "display_name": "Python 3",
      "name": "python3"
    },
    "language_info": {
      "name": "python"
    },
    "widgets": {
      "application/vnd.jupyter.widget-state+json": {
        "070df514ab66443fbc66b4093e0192bb": {
          "model_module": "@jupyter-widgets/controls",
          "model_module_version": "1.5.0",
          "model_name": "HTMLModel",
          "state": {
            "_dom_classes": [],
            "_model_module": "@jupyter-widgets/controls",
            "_model_module_version": "1.5.0",
            "_model_name": "HTMLModel",
            "_view_count": null,
            "_view_module": "@jupyter-widgets/controls",
            "_view_module_version": "1.5.0",
            "_view_name": "HTMLView",
            "description": "",
            "description_tooltip": null,
            "layout": "IPY_MODEL_480437b5dc6748f4acbf8928648929f7",
            "placeholder": "​",
            "style": "IPY_MODEL_c90e4c1f2853414b8beb449ab74e9644",
            "value": " 0/16 [00:00&lt;?, ?it/s]"
          }
        },
        "08ac428b79f74e76bed08d1b96fb9119": {
          "model_module": "@jupyter-widgets/controls",
          "model_module_version": "1.5.0",
          "model_name": "DescriptionStyleModel",
          "state": {
            "_model_module": "@jupyter-widgets/controls",
            "_model_module_version": "1.5.0",
            "_model_name": "DescriptionStyleModel",
            "_view_count": null,
            "_view_module": "@jupyter-widgets/base",
            "_view_module_version": "1.2.0",
            "_view_name": "StyleView",
            "description_width": ""
          }
        },
        "0da327e4276e483ba51dd55427855932": {
          "model_module": "@jupyter-widgets/controls",
          "model_module_version": "1.5.0",
          "model_name": "DescriptionStyleModel",
          "state": {
            "_model_module": "@jupyter-widgets/controls",
            "_model_module_version": "1.5.0",
            "_model_name": "DescriptionStyleModel",
            "_view_count": null,
            "_view_module": "@jupyter-widgets/base",
            "_view_module_version": "1.2.0",
            "_view_name": "StyleView",
            "description_width": ""
          }
        },
        "139d93227af74dde9c198afe7cabf235": {
          "model_module": "@jupyter-widgets/controls",
          "model_module_version": "1.5.0",
          "model_name": "HTMLModel",
          "state": {
            "_dom_classes": [],
            "_model_module": "@jupyter-widgets/controls",
            "_model_module_version": "1.5.0",
            "_model_name": "HTMLModel",
            "_view_count": null,
            "_view_module": "@jupyter-widgets/controls",
            "_view_module_version": "1.5.0",
            "_view_name": "HTMLView",
            "description": "",
            "description_tooltip": null,
            "layout": "IPY_MODEL_257a2c9ca82e48dc9534b0eb12065bc6",
            "placeholder": "​",
            "style": "IPY_MODEL_0da327e4276e483ba51dd55427855932",
            "value": "100%"
          }
        },
        "166379225765463582054713e2cd89e0": {
          "model_module": "@jupyter-widgets/controls",
          "model_module_version": "1.5.0",
          "model_name": "ProgressStyleModel",
          "state": {
            "_model_module": "@jupyter-widgets/controls",
            "_model_module_version": "1.5.0",
            "_model_name": "ProgressStyleModel",
            "_view_count": null,
            "_view_module": "@jupyter-widgets/base",
            "_view_module_version": "1.2.0",
            "_view_name": "StyleView",
            "bar_color": null,
            "description_width": ""
          }
        },
        "1c81a3006faf4dea8c883df4f1863c7a": {
          "model_module": "@jupyter-widgets/controls",
          "model_module_version": "1.5.0",
          "model_name": "HBoxModel",
          "state": {
            "_dom_classes": [],
            "_model_module": "@jupyter-widgets/controls",
            "_model_module_version": "1.5.0",
            "_model_name": "HBoxModel",
            "_view_count": null,
            "_view_module": "@jupyter-widgets/controls",
            "_view_module_version": "1.5.0",
            "_view_name": "HBoxView",
            "box_style": "",
            "children": [
              "IPY_MODEL_139d93227af74dde9c198afe7cabf235",
              "IPY_MODEL_ff1a6599d9794a87841c36e434039aa6",
              "IPY_MODEL_e57be117d77a4179863a04e7031f01db"
            ],
            "layout": "IPY_MODEL_bb77a75bd23c4c35a96a148adeb8fd9e"
          }
        },
        "257a2c9ca82e48dc9534b0eb12065bc6": {
          "model_module": "@jupyter-widgets/base",
          "model_module_version": "1.2.0",
          "model_name": "LayoutModel",
          "state": {
            "_model_module": "@jupyter-widgets/base",
            "_model_module_version": "1.2.0",
            "_model_name": "LayoutModel",
            "_view_count": null,
            "_view_module": "@jupyter-widgets/base",
            "_view_module_version": "1.2.0",
            "_view_name": "LayoutView",
            "align_content": null,
            "align_items": null,
            "align_self": null,
            "border": null,
            "bottom": null,
            "display": null,
            "flex": null,
            "flex_flow": null,
            "grid_area": null,
            "grid_auto_columns": null,
            "grid_auto_flow": null,
            "grid_auto_rows": null,
            "grid_column": null,
            "grid_gap": null,
            "grid_row": null,
            "grid_template_areas": null,
            "grid_template_columns": null,
            "grid_template_rows": null,
            "height": null,
            "justify_content": null,
            "justify_items": null,
            "left": null,
            "margin": null,
            "max_height": null,
            "max_width": null,
            "min_height": null,
            "min_width": null,
            "object_fit": null,
            "object_position": null,
            "order": null,
            "overflow": null,
            "overflow_x": null,
            "overflow_y": null,
            "padding": null,
            "right": null,
            "top": null,
            "visibility": null,
            "width": null
          }
        },
        "28ac2aaebdfb468fbe4308657e11f983": {
          "model_module": "@jupyter-widgets/controls",
          "model_module_version": "1.5.0",
          "model_name": "FloatProgressModel",
          "state": {
            "_dom_classes": [],
            "_model_module": "@jupyter-widgets/controls",
            "_model_module_version": "1.5.0",
            "_model_name": "FloatProgressModel",
            "_view_count": null,
            "_view_module": "@jupyter-widgets/controls",
            "_view_module_version": "1.5.0",
            "_view_name": "ProgressView",
            "bar_style": "",
            "description": "",
            "description_tooltip": null,
            "layout": "IPY_MODEL_e0437426166248a48759d90d0fe202b0",
            "max": 16,
            "min": 0,
            "orientation": "horizontal",
            "style": "IPY_MODEL_faeff706c9754121a0a1d112a79e7d16",
            "value": 0
          }
        },
        "296f83fe20b246f181f598f5347f7d7e": {
          "model_module": "@jupyter-widgets/controls",
          "model_module_version": "1.5.0",
          "model_name": "DescriptionStyleModel",
          "state": {
            "_model_module": "@jupyter-widgets/controls",
            "_model_module_version": "1.5.0",
            "_model_name": "DescriptionStyleModel",
            "_view_count": null,
            "_view_module": "@jupyter-widgets/base",
            "_view_module_version": "1.2.0",
            "_view_name": "StyleView",
            "description_width": ""
          }
        },
        "2e51b436197642289d9cf8ed26dddb15": {
          "model_module": "@jupyter-widgets/controls",
          "model_module_version": "1.5.0",
          "model_name": "ProgressStyleModel",
          "state": {
            "_model_module": "@jupyter-widgets/controls",
            "_model_module_version": "1.5.0",
            "_model_name": "ProgressStyleModel",
            "_view_count": null,
            "_view_module": "@jupyter-widgets/base",
            "_view_module_version": "1.2.0",
            "_view_name": "StyleView",
            "bar_color": null,
            "description_width": ""
          }
        },
        "3b9e2be7b2264e6692c7fd07f2eda3c7": {
          "model_module": "@jupyter-widgets/base",
          "model_module_version": "1.2.0",
          "model_name": "LayoutModel",
          "state": {
            "_model_module": "@jupyter-widgets/base",
            "_model_module_version": "1.2.0",
            "_model_name": "LayoutModel",
            "_view_count": null,
            "_view_module": "@jupyter-widgets/base",
            "_view_module_version": "1.2.0",
            "_view_name": "LayoutView",
            "align_content": null,
            "align_items": null,
            "align_self": null,
            "border": null,
            "bottom": null,
            "display": null,
            "flex": null,
            "flex_flow": null,
            "grid_area": null,
            "grid_auto_columns": null,
            "grid_auto_flow": null,
            "grid_auto_rows": null,
            "grid_column": null,
            "grid_gap": null,
            "grid_row": null,
            "grid_template_areas": null,
            "grid_template_columns": null,
            "grid_template_rows": null,
            "height": null,
            "justify_content": null,
            "justify_items": null,
            "left": null,
            "margin": null,
            "max_height": null,
            "max_width": null,
            "min_height": null,
            "min_width": null,
            "object_fit": null,
            "object_position": null,
            "order": null,
            "overflow": null,
            "overflow_x": null,
            "overflow_y": null,
            "padding": null,
            "right": null,
            "top": null,
            "visibility": null,
            "width": null
          }
        },
        "3cabf074c9644d078d781f7ea7f4a18e": {
          "model_module": "@jupyter-widgets/base",
          "model_module_version": "1.2.0",
          "model_name": "LayoutModel",
          "state": {
            "_model_module": "@jupyter-widgets/base",
            "_model_module_version": "1.2.0",
            "_model_name": "LayoutModel",
            "_view_count": null,
            "_view_module": "@jupyter-widgets/base",
            "_view_module_version": "1.2.0",
            "_view_name": "LayoutView",
            "align_content": null,
            "align_items": null,
            "align_self": null,
            "border": null,
            "bottom": null,
            "display": null,
            "flex": null,
            "flex_flow": null,
            "grid_area": null,
            "grid_auto_columns": null,
            "grid_auto_flow": null,
            "grid_auto_rows": null,
            "grid_column": null,
            "grid_gap": null,
            "grid_row": null,
            "grid_template_areas": null,
            "grid_template_columns": null,
            "grid_template_rows": null,
            "height": null,
            "justify_content": null,
            "justify_items": null,
            "left": null,
            "margin": null,
            "max_height": null,
            "max_width": null,
            "min_height": null,
            "min_width": null,
            "object_fit": null,
            "object_position": null,
            "order": null,
            "overflow": null,
            "overflow_x": null,
            "overflow_y": null,
            "padding": null,
            "right": null,
            "top": null,
            "visibility": null,
            "width": null
          }
        },
        "4762884f1596441c9a5a71044d2f5772": {
          "model_module": "@jupyter-widgets/controls",
          "model_module_version": "1.5.0",
          "model_name": "DescriptionStyleModel",
          "state": {
            "_model_module": "@jupyter-widgets/controls",
            "_model_module_version": "1.5.0",
            "_model_name": "DescriptionStyleModel",
            "_view_count": null,
            "_view_module": "@jupyter-widgets/base",
            "_view_module_version": "1.2.0",
            "_view_name": "StyleView",
            "description_width": ""
          }
        },
        "480437b5dc6748f4acbf8928648929f7": {
          "model_module": "@jupyter-widgets/base",
          "model_module_version": "1.2.0",
          "model_name": "LayoutModel",
          "state": {
            "_model_module": "@jupyter-widgets/base",
            "_model_module_version": "1.2.0",
            "_model_name": "LayoutModel",
            "_view_count": null,
            "_view_module": "@jupyter-widgets/base",
            "_view_module_version": "1.2.0",
            "_view_name": "LayoutView",
            "align_content": null,
            "align_items": null,
            "align_self": null,
            "border": null,
            "bottom": null,
            "display": null,
            "flex": null,
            "flex_flow": null,
            "grid_area": null,
            "grid_auto_columns": null,
            "grid_auto_flow": null,
            "grid_auto_rows": null,
            "grid_column": null,
            "grid_gap": null,
            "grid_row": null,
            "grid_template_areas": null,
            "grid_template_columns": null,
            "grid_template_rows": null,
            "height": null,
            "justify_content": null,
            "justify_items": null,
            "left": null,
            "margin": null,
            "max_height": null,
            "max_width": null,
            "min_height": null,
            "min_width": null,
            "object_fit": null,
            "object_position": null,
            "order": null,
            "overflow": null,
            "overflow_x": null,
            "overflow_y": null,
            "padding": null,
            "right": null,
            "top": null,
            "visibility": null,
            "width": null
          }
        },
        "5331b5ff6a3c477dbc3207fc371481da": {
          "model_module": "@jupyter-widgets/controls",
          "model_module_version": "1.5.0",
          "model_name": "HTMLModel",
          "state": {
            "_dom_classes": [],
            "_model_module": "@jupyter-widgets/controls",
            "_model_module_version": "1.5.0",
            "_model_name": "HTMLModel",
            "_view_count": null,
            "_view_module": "@jupyter-widgets/controls",
            "_view_module_version": "1.5.0",
            "_view_name": "HTMLView",
            "description": "",
            "description_tooltip": null,
            "layout": "IPY_MODEL_a57c68433e5f45489513c55e94bdcb9f",
            "placeholder": "​",
            "style": "IPY_MODEL_296f83fe20b246f181f598f5347f7d7e",
            "value": "  0%"
          }
        },
        "5edcbe13692e4c2ca73808619370033e": {
          "model_module": "@jupyter-widgets/controls",
          "model_module_version": "1.5.0",
          "model_name": "FloatProgressModel",
          "state": {
            "_dom_classes": [],
            "_model_module": "@jupyter-widgets/controls",
            "_model_module_version": "1.5.0",
            "_model_name": "FloatProgressModel",
            "_view_count": null,
            "_view_module": "@jupyter-widgets/controls",
            "_view_module_version": "1.5.0",
            "_view_name": "ProgressView",
            "bar_style": "",
            "description": "",
            "description_tooltip": null,
            "layout": "IPY_MODEL_3cabf074c9644d078d781f7ea7f4a18e",
            "max": 50,
            "min": 0,
            "orientation": "horizontal",
            "style": "IPY_MODEL_2e51b436197642289d9cf8ed26dddb15",
            "value": 0
          }
        },
        "6ee39b04e5734b9caf7bb895fc2d1e4b": {
          "model_module": "@jupyter-widgets/base",
          "model_module_version": "1.2.0",
          "model_name": "LayoutModel",
          "state": {
            "_model_module": "@jupyter-widgets/base",
            "_model_module_version": "1.2.0",
            "_model_name": "LayoutModel",
            "_view_count": null,
            "_view_module": "@jupyter-widgets/base",
            "_view_module_version": "1.2.0",
            "_view_name": "LayoutView",
            "align_content": null,
            "align_items": null,
            "align_self": null,
            "border": null,
            "bottom": null,
            "display": null,
            "flex": null,
            "flex_flow": null,
            "grid_area": null,
            "grid_auto_columns": null,
            "grid_auto_flow": null,
            "grid_auto_rows": null,
            "grid_column": null,
            "grid_gap": null,
            "grid_row": null,
            "grid_template_areas": null,
            "grid_template_columns": null,
            "grid_template_rows": null,
            "height": null,
            "justify_content": null,
            "justify_items": null,
            "left": null,
            "margin": null,
            "max_height": null,
            "max_width": null,
            "min_height": null,
            "min_width": null,
            "object_fit": null,
            "object_position": null,
            "order": null,
            "overflow": null,
            "overflow_x": null,
            "overflow_y": null,
            "padding": null,
            "right": null,
            "top": null,
            "visibility": null,
            "width": null
          }
        },
        "7804577fcb34475e9a2c4cd175e4ea59": {
          "model_module": "@jupyter-widgets/base",
          "model_module_version": "1.2.0",
          "model_name": "LayoutModel",
          "state": {
            "_model_module": "@jupyter-widgets/base",
            "_model_module_version": "1.2.0",
            "_model_name": "LayoutModel",
            "_view_count": null,
            "_view_module": "@jupyter-widgets/base",
            "_view_module_version": "1.2.0",
            "_view_name": "LayoutView",
            "align_content": null,
            "align_items": null,
            "align_self": null,
            "border": null,
            "bottom": null,
            "display": null,
            "flex": null,
            "flex_flow": null,
            "grid_area": null,
            "grid_auto_columns": null,
            "grid_auto_flow": null,
            "grid_auto_rows": null,
            "grid_column": null,
            "grid_gap": null,
            "grid_row": null,
            "grid_template_areas": null,
            "grid_template_columns": null,
            "grid_template_rows": null,
            "height": null,
            "justify_content": null,
            "justify_items": null,
            "left": null,
            "margin": null,
            "max_height": null,
            "max_width": null,
            "min_height": null,
            "min_width": null,
            "object_fit": null,
            "object_position": null,
            "order": null,
            "overflow": null,
            "overflow_x": null,
            "overflow_y": null,
            "padding": null,
            "right": null,
            "top": null,
            "visibility": null,
            "width": null
          }
        },
        "7f27ce7f32714641be8f6627a73f092d": {
          "model_module": "@jupyter-widgets/base",
          "model_module_version": "1.2.0",
          "model_name": "LayoutModel",
          "state": {
            "_model_module": "@jupyter-widgets/base",
            "_model_module_version": "1.2.0",
            "_model_name": "LayoutModel",
            "_view_count": null,
            "_view_module": "@jupyter-widgets/base",
            "_view_module_version": "1.2.0",
            "_view_name": "LayoutView",
            "align_content": null,
            "align_items": null,
            "align_self": null,
            "border": null,
            "bottom": null,
            "display": null,
            "flex": null,
            "flex_flow": null,
            "grid_area": null,
            "grid_auto_columns": null,
            "grid_auto_flow": null,
            "grid_auto_rows": null,
            "grid_column": null,
            "grid_gap": null,
            "grid_row": null,
            "grid_template_areas": null,
            "grid_template_columns": null,
            "grid_template_rows": null,
            "height": null,
            "justify_content": null,
            "justify_items": null,
            "left": null,
            "margin": null,
            "max_height": null,
            "max_width": null,
            "min_height": null,
            "min_width": null,
            "object_fit": null,
            "object_position": null,
            "order": null,
            "overflow": null,
            "overflow_x": null,
            "overflow_y": null,
            "padding": null,
            "right": null,
            "top": null,
            "visibility": null,
            "width": null
          }
        },
        "a106d1c489114673bc928ce1d089b45e": {
          "model_module": "@jupyter-widgets/base",
          "model_module_version": "1.2.0",
          "model_name": "LayoutModel",
          "state": {
            "_model_module": "@jupyter-widgets/base",
            "_model_module_version": "1.2.0",
            "_model_name": "LayoutModel",
            "_view_count": null,
            "_view_module": "@jupyter-widgets/base",
            "_view_module_version": "1.2.0",
            "_view_name": "LayoutView",
            "align_content": null,
            "align_items": null,
            "align_self": null,
            "border": null,
            "bottom": null,
            "display": null,
            "flex": null,
            "flex_flow": null,
            "grid_area": null,
            "grid_auto_columns": null,
            "grid_auto_flow": null,
            "grid_auto_rows": null,
            "grid_column": null,
            "grid_gap": null,
            "grid_row": null,
            "grid_template_areas": null,
            "grid_template_columns": null,
            "grid_template_rows": null,
            "height": null,
            "justify_content": null,
            "justify_items": null,
            "left": null,
            "margin": null,
            "max_height": null,
            "max_width": null,
            "min_height": null,
            "min_width": null,
            "object_fit": null,
            "object_position": null,
            "order": null,
            "overflow": null,
            "overflow_x": null,
            "overflow_y": null,
            "padding": null,
            "right": null,
            "top": null,
            "visibility": null,
            "width": null
          }
        },
        "a57c68433e5f45489513c55e94bdcb9f": {
          "model_module": "@jupyter-widgets/base",
          "model_module_version": "1.2.0",
          "model_name": "LayoutModel",
          "state": {
            "_model_module": "@jupyter-widgets/base",
            "_model_module_version": "1.2.0",
            "_model_name": "LayoutModel",
            "_view_count": null,
            "_view_module": "@jupyter-widgets/base",
            "_view_module_version": "1.2.0",
            "_view_name": "LayoutView",
            "align_content": null,
            "align_items": null,
            "align_self": null,
            "border": null,
            "bottom": null,
            "display": null,
            "flex": null,
            "flex_flow": null,
            "grid_area": null,
            "grid_auto_columns": null,
            "grid_auto_flow": null,
            "grid_auto_rows": null,
            "grid_column": null,
            "grid_gap": null,
            "grid_row": null,
            "grid_template_areas": null,
            "grid_template_columns": null,
            "grid_template_rows": null,
            "height": null,
            "justify_content": null,
            "justify_items": null,
            "left": null,
            "margin": null,
            "max_height": null,
            "max_width": null,
            "min_height": null,
            "min_width": null,
            "object_fit": null,
            "object_position": null,
            "order": null,
            "overflow": null,
            "overflow_x": null,
            "overflow_y": null,
            "padding": null,
            "right": null,
            "top": null,
            "visibility": null,
            "width": null
          }
        },
        "ba8baf251ce243778466c8ed107b07b3": {
          "model_module": "@jupyter-widgets/controls",
          "model_module_version": "1.5.0",
          "model_name": "HTMLModel",
          "state": {
            "_dom_classes": [],
            "_model_module": "@jupyter-widgets/controls",
            "_model_module_version": "1.5.0",
            "_model_name": "HTMLModel",
            "_view_count": null,
            "_view_module": "@jupyter-widgets/controls",
            "_view_module_version": "1.5.0",
            "_view_name": "HTMLView",
            "description": "",
            "description_tooltip": null,
            "layout": "IPY_MODEL_a106d1c489114673bc928ce1d089b45e",
            "placeholder": "​",
            "style": "IPY_MODEL_d22db7582e754f37be2b71bab2169121",
            "value": " 0/50 [02:04&lt;?, ?it/s]"
          }
        },
        "bb77a75bd23c4c35a96a148adeb8fd9e": {
          "model_module": "@jupyter-widgets/base",
          "model_module_version": "1.2.0",
          "model_name": "LayoutModel",
          "state": {
            "_model_module": "@jupyter-widgets/base",
            "_model_module_version": "1.2.0",
            "_model_name": "LayoutModel",
            "_view_count": null,
            "_view_module": "@jupyter-widgets/base",
            "_view_module_version": "1.2.0",
            "_view_name": "LayoutView",
            "align_content": null,
            "align_items": null,
            "align_self": null,
            "border": null,
            "bottom": null,
            "display": null,
            "flex": null,
            "flex_flow": null,
            "grid_area": null,
            "grid_auto_columns": null,
            "grid_auto_flow": null,
            "grid_auto_rows": null,
            "grid_column": null,
            "grid_gap": null,
            "grid_row": null,
            "grid_template_areas": null,
            "grid_template_columns": null,
            "grid_template_rows": null,
            "height": null,
            "justify_content": null,
            "justify_items": null,
            "left": null,
            "margin": null,
            "max_height": null,
            "max_width": null,
            "min_height": null,
            "min_width": null,
            "object_fit": null,
            "object_position": null,
            "order": null,
            "overflow": null,
            "overflow_x": null,
            "overflow_y": null,
            "padding": null,
            "right": null,
            "top": null,
            "visibility": null,
            "width": null
          }
        },
        "c74564b6b9b044b09724c02fd774ab17": {
          "model_module": "@jupyter-widgets/controls",
          "model_module_version": "1.5.0",
          "model_name": "HBoxModel",
          "state": {
            "_dom_classes": [],
            "_model_module": "@jupyter-widgets/controls",
            "_model_module_version": "1.5.0",
            "_model_name": "HBoxModel",
            "_view_count": null,
            "_view_module": "@jupyter-widgets/controls",
            "_view_module_version": "1.5.0",
            "_view_name": "HBoxView",
            "box_style": "",
            "children": [
              "IPY_MODEL_ff401b007c2e47b283688e60f4ec240f",
              "IPY_MODEL_5edcbe13692e4c2ca73808619370033e",
              "IPY_MODEL_ba8baf251ce243778466c8ed107b07b3"
            ],
            "layout": "IPY_MODEL_3b9e2be7b2264e6692c7fd07f2eda3c7"
          }
        },
        "c90e4c1f2853414b8beb449ab74e9644": {
          "model_module": "@jupyter-widgets/controls",
          "model_module_version": "1.5.0",
          "model_name": "DescriptionStyleModel",
          "state": {
            "_model_module": "@jupyter-widgets/controls",
            "_model_module_version": "1.5.0",
            "_model_name": "DescriptionStyleModel",
            "_view_count": null,
            "_view_module": "@jupyter-widgets/base",
            "_view_module_version": "1.2.0",
            "_view_name": "StyleView",
            "description_width": ""
          }
        },
        "d22db7582e754f37be2b71bab2169121": {
          "model_module": "@jupyter-widgets/controls",
          "model_module_version": "1.5.0",
          "model_name": "DescriptionStyleModel",
          "state": {
            "_model_module": "@jupyter-widgets/controls",
            "_model_module_version": "1.5.0",
            "_model_name": "DescriptionStyleModel",
            "_view_count": null,
            "_view_module": "@jupyter-widgets/base",
            "_view_module_version": "1.2.0",
            "_view_name": "StyleView",
            "description_width": ""
          }
        },
        "d5560e40326041eea65d380ad9dc4ebb": {
          "model_module": "@jupyter-widgets/base",
          "model_module_version": "1.2.0",
          "model_name": "LayoutModel",
          "state": {
            "_model_module": "@jupyter-widgets/base",
            "_model_module_version": "1.2.0",
            "_model_name": "LayoutModel",
            "_view_count": null,
            "_view_module": "@jupyter-widgets/base",
            "_view_module_version": "1.2.0",
            "_view_name": "LayoutView",
            "align_content": null,
            "align_items": null,
            "align_self": null,
            "border": null,
            "bottom": null,
            "display": null,
            "flex": null,
            "flex_flow": null,
            "grid_area": null,
            "grid_auto_columns": null,
            "grid_auto_flow": null,
            "grid_auto_rows": null,
            "grid_column": null,
            "grid_gap": null,
            "grid_row": null,
            "grid_template_areas": null,
            "grid_template_columns": null,
            "grid_template_rows": null,
            "height": null,
            "justify_content": null,
            "justify_items": null,
            "left": null,
            "margin": null,
            "max_height": null,
            "max_width": null,
            "min_height": null,
            "min_width": null,
            "object_fit": null,
            "object_position": null,
            "order": null,
            "overflow": null,
            "overflow_x": null,
            "overflow_y": null,
            "padding": null,
            "right": null,
            "top": null,
            "visibility": null,
            "width": null
          }
        },
        "e0437426166248a48759d90d0fe202b0": {
          "model_module": "@jupyter-widgets/base",
          "model_module_version": "1.2.0",
          "model_name": "LayoutModel",
          "state": {
            "_model_module": "@jupyter-widgets/base",
            "_model_module_version": "1.2.0",
            "_model_name": "LayoutModel",
            "_view_count": null,
            "_view_module": "@jupyter-widgets/base",
            "_view_module_version": "1.2.0",
            "_view_name": "LayoutView",
            "align_content": null,
            "align_items": null,
            "align_self": null,
            "border": null,
            "bottom": null,
            "display": null,
            "flex": null,
            "flex_flow": null,
            "grid_area": null,
            "grid_auto_columns": null,
            "grid_auto_flow": null,
            "grid_auto_rows": null,
            "grid_column": null,
            "grid_gap": null,
            "grid_row": null,
            "grid_template_areas": null,
            "grid_template_columns": null,
            "grid_template_rows": null,
            "height": null,
            "justify_content": null,
            "justify_items": null,
            "left": null,
            "margin": null,
            "max_height": null,
            "max_width": null,
            "min_height": null,
            "min_width": null,
            "object_fit": null,
            "object_position": null,
            "order": null,
            "overflow": null,
            "overflow_x": null,
            "overflow_y": null,
            "padding": null,
            "right": null,
            "top": null,
            "visibility": null,
            "width": null
          }
        },
        "e57be117d77a4179863a04e7031f01db": {
          "model_module": "@jupyter-widgets/controls",
          "model_module_version": "1.5.0",
          "model_name": "HTMLModel",
          "state": {
            "_dom_classes": [],
            "_model_module": "@jupyter-widgets/controls",
            "_model_module_version": "1.5.0",
            "_model_name": "HTMLModel",
            "_view_count": null,
            "_view_module": "@jupyter-widgets/controls",
            "_view_module_version": "1.5.0",
            "_view_name": "HTMLView",
            "description": "",
            "description_tooltip": null,
            "layout": "IPY_MODEL_7804577fcb34475e9a2c4cd175e4ea59",
            "placeholder": "​",
            "style": "IPY_MODEL_4762884f1596441c9a5a71044d2f5772",
            "value": " 16/16 [00:20&lt;00:00,  1.13s/it]"
          }
        },
        "eebb27d9a3e543cc9a3ad199a65711dc": {
          "model_module": "@jupyter-widgets/controls",
          "model_module_version": "1.5.0",
          "model_name": "HBoxModel",
          "state": {
            "_dom_classes": [],
            "_model_module": "@jupyter-widgets/controls",
            "_model_module_version": "1.5.0",
            "_model_name": "HBoxModel",
            "_view_count": null,
            "_view_module": "@jupyter-widgets/controls",
            "_view_module_version": "1.5.0",
            "_view_name": "HBoxView",
            "box_style": "",
            "children": [
              "IPY_MODEL_5331b5ff6a3c477dbc3207fc371481da",
              "IPY_MODEL_28ac2aaebdfb468fbe4308657e11f983",
              "IPY_MODEL_070df514ab66443fbc66b4093e0192bb"
            ],
            "layout": "IPY_MODEL_d5560e40326041eea65d380ad9dc4ebb"
          }
        },
        "faeff706c9754121a0a1d112a79e7d16": {
          "model_module": "@jupyter-widgets/controls",
          "model_module_version": "1.5.0",
          "model_name": "ProgressStyleModel",
          "state": {
            "_model_module": "@jupyter-widgets/controls",
            "_model_module_version": "1.5.0",
            "_model_name": "ProgressStyleModel",
            "_view_count": null,
            "_view_module": "@jupyter-widgets/base",
            "_view_module_version": "1.2.0",
            "_view_name": "StyleView",
            "bar_color": null,
            "description_width": ""
          }
        },
        "ff1a6599d9794a87841c36e434039aa6": {
          "model_module": "@jupyter-widgets/controls",
          "model_module_version": "1.5.0",
          "model_name": "FloatProgressModel",
          "state": {
            "_dom_classes": [],
            "_model_module": "@jupyter-widgets/controls",
            "_model_module_version": "1.5.0",
            "_model_name": "FloatProgressModel",
            "_view_count": null,
            "_view_module": "@jupyter-widgets/controls",
            "_view_module_version": "1.5.0",
            "_view_name": "ProgressView",
            "bar_style": "success",
            "description": "",
            "description_tooltip": null,
            "layout": "IPY_MODEL_7f27ce7f32714641be8f6627a73f092d",
            "max": 16,
            "min": 0,
            "orientation": "horizontal",
            "style": "IPY_MODEL_166379225765463582054713e2cd89e0",
            "value": 16
          }
        },
        "ff401b007c2e47b283688e60f4ec240f": {
          "model_module": "@jupyter-widgets/controls",
          "model_module_version": "1.5.0",
          "model_name": "HTMLModel",
          "state": {
            "_dom_classes": [],
            "_model_module": "@jupyter-widgets/controls",
            "_model_module_version": "1.5.0",
            "_model_name": "HTMLModel",
            "_view_count": null,
            "_view_module": "@jupyter-widgets/controls",
            "_view_module_version": "1.5.0",
            "_view_name": "HTMLView",
            "description": "",
            "description_tooltip": null,
            "layout": "IPY_MODEL_6ee39b04e5734b9caf7bb895fc2d1e4b",
            "placeholder": "​",
            "style": "IPY_MODEL_08ac428b79f74e76bed08d1b96fb9119",
            "value": "loss: 1.17242, p: 5.00%:   0%"
          }
        }
      }
    },
    "accelerator": "GPU"
  },
  "nbformat": 4,
  "nbformat_minor": 0
}